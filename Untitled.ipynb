{
  "nbformat": 4,
  "nbformat_minor": 0,
  "metadata": {
    "kernelspec": {
      "display_name": "Python 3",
      "language": "python",
      "name": "python3"
    },
    "language_info": {
      "codemirror_mode": {
        "name": "ipython",
        "version": 3
      },
      "file_extension": ".py",
      "mimetype": "text/x-python",
      "name": "python",
      "nbconvert_exporter": "python",
      "pygments_lexer": "ipython3",
      "version": "3.6.9"
    },
    "colab": {
      "name": "Untitled.ipynb",
      "provenance": []
    }
  },
  "cells": [
    {
      "cell_type": "code",
      "metadata": {
        "id": "HGcJbmxooxwH"
      },
      "source": [
        "import pandas as pd\n",
        "import numpy as np\n",
        "from statsmodels.tsa.arima_model import ARMA,ARMAResults,ARIMA,ARIMAResults\n",
        "from statsmodels.graphics.tsaplots import plot_acf,plot_pacf\n",
        "from pmdarima import auto_arima\n",
        "from datetime import datetime\n",
        "from sklearn.metrics import mean_squared_error\n",
        "from statsmodels.tools.eval_measures import rmse\n",
        "from statsmodels.tsa.statespace.tools import diff\n",
        "from statsmodels.tsa.stattools import adfuller\n",
        "from matplotlib import dates\n",
        "from matplotlib import pyplot as plt\n",
        "import matplotlib.ticker as ticker\n",
        "%matplotlib inline\n",
        "import warnings\n",
        "warnings.filterwarnings(\"ignore\")"
      ],
      "execution_count": null,
      "outputs": []
    },
    {
      "cell_type": "code",
      "metadata": {
        "id": "scP6rrCfoxwO"
      },
      "source": [
        "df = pd.read_csv ('OxCGRT_Download_280420_204729_Full1.csv',\n",
        "                  index_col=['CountryName','Date'],parse_dates=True)"
      ],
      "execution_count": null,
      "outputs": []
    },
    {
      "cell_type": "code",
      "metadata": {
        "id": "U9s3LYBcoxwU"
      },
      "source": [
        "df.shape"
      ],
      "execution_count": null,
      "outputs": []
    },
    {
      "cell_type": "code",
      "metadata": {
        "id": "r2yLTGkyoxwY"
      },
      "source": [
        "df.head()"
      ],
      "execution_count": null,
      "outputs": []
    },
    {
      "cell_type": "code",
      "metadata": {
        "id": "SLPIdBLWoxwb"
      },
      "source": [
        "df.dtypes"
      ],
      "execution_count": null,
      "outputs": []
    },
    {
      "cell_type": "code",
      "metadata": {
        "id": "ron3n3kioxwf"
      },
      "source": [
        "df.drop(['CountryCode','C1_Notes','C2_Notes','C3_Notes','C4_Notes','C5_Notes','C6_Notes','C7_Notes','C8_Notes','E1_Notes','E2_Notes',\n",
        "        'E3_Notes','E4_Notes','H1_Notes','H2_Notes','H3_Notes','H4_Notes','H5_Notes','M1_Wildcard',\n",
        "        'M1_Notes'],axis=1,inplace=True)"
      ],
      "execution_count": null,
      "outputs": []
    },
    {
      "cell_type": "code",
      "metadata": {
        "id": "l0uCm8aWoxwi"
      },
      "source": [
        "df = df.loc [['Vietnam', 'United States','South Korea', 'Italy']] \n",
        "df"
      ],
      "execution_count": null,
      "outputs": []
    },
    {
      "cell_type": "code",
      "metadata": {
        "id": "-iunwZ0Uoxwl"
      },
      "source": [
        "df.index"
      ],
      "execution_count": null,
      "outputs": []
    },
    {
      "cell_type": "code",
      "metadata": {
        "id": "rT8A_vPQoxwo"
      },
      "source": [
        "df_Italy = df.loc['Italy']\n",
        "df_Italy[['ConfirmedCases', 'ConfirmedDeaths']].plot(figsize=(5, 5));"
      ],
      "execution_count": null,
      "outputs": []
    },
    {
      "cell_type": "code",
      "metadata": {
        "id": "3Fx5I6sHoxwr"
      },
      "source": [
        "df_SKorea = df.loc['South Korea']\n",
        "df_SKorea[['ConfirmedCases', 'ConfirmedDeaths']].plot(figsize=(5, 5));"
      ],
      "execution_count": null,
      "outputs": []
    },
    {
      "cell_type": "code",
      "metadata": {
        "id": "EymKV7AKoxwu"
      },
      "source": [
        "df_US = df.loc['United States']\n",
        "df_US[['ConfirmedCases', 'ConfirmedDeaths']].plot(figsize=(5, 5));"
      ],
      "execution_count": null,
      "outputs": []
    },
    {
      "cell_type": "code",
      "metadata": {
        "id": "_-pwjiMmoxwx"
      },
      "source": [
        "df_Vietnam = df.loc['Vietnam']\n",
        "df_Vietnam[['ConfirmedCases', 'ConfirmedDeaths']].plot(figsize=(5, 5));"
      ],
      "execution_count": null,
      "outputs": []
    },
    {
      "cell_type": "code",
      "metadata": {
        "id": "w-2eApLfoxw0"
      },
      "source": [
        "f, a = plt.subplots(nrows=2, ncols=2, figsize=(11, 13), dpi= 90)\n",
        "df.reset_index().pivot('Date','CountryName','ConfirmedDeaths').plot(ax=a[0,0], title='Confirmed Deaths', grid=True)\n",
        "df.reset_index().pivot('Date','CountryName', 'ConfirmedCases').plot(ax=a[0,1],title='Confirmed Cases', grid=True)\n",
        "df.reset_index().pivot('Date','CountryName', 'StringencyIndex').plot(ax=a[1,0],title='Stringency Index', grid=True)\n",
        "df.reset_index().pivot('Date','CountryName','LegacyStringencyIndex').plot(ax=a[1,1],\n",
        "                                                                          title='Legacy Stringency Index', grid=True)"
      ],
      "execution_count": null,
      "outputs": []
    },
    {
      "cell_type": "code",
      "metadata": {
        "id": "_9dpOkqroxw4"
      },
      "source": [
        "df2=df.loc['South Korea']\n",
        "df2.index"
      ],
      "execution_count": null,
      "outputs": []
    },
    {
      "cell_type": "code",
      "metadata": {
        "id": "dd_a4sC7oxw6"
      },
      "source": [
        "def adf_test(series,title=''):\n",
        "    \"\"\"\n",
        "    Pass in a time series and an optional title, returns an ADF report\n",
        "    \"\"\"\n",
        "    print(f'Augmented Dickey-Fuller Test: {title}')\n",
        "    result = adfuller(series.dropna(),autolag='AIC')    \n",
        "    labels = ['ADF test statistic','p-value','# lags used','# observations']\n",
        "    out = pd.Series(result[0:4],index=labels)\n",
        "    for key,val in result[4].items():\n",
        "        out[f'critical value ({key})']=val        \n",
        "    print(out.to_string())   \n",
        "    if result[1] <= 0.05:\n",
        "        print(\"Strong evidence against the null hypothesis\")\n",
        "        print(\"Reject the null hypothesis\")\n",
        "        print(\"Data has no unit root and is stationary\")\n",
        "    else:\n",
        "        print(\"Weak evidence against the null hypothesis\")\n",
        "        print(\"Fail to reject the null hypothesis\")\n",
        "        print(\"Data has a unit root and is non-stationary\")"
      ],
      "execution_count": null,
      "outputs": []
    },
    {
      "cell_type": "code",
      "metadata": {
        "id": "9KZadSHAoxw8"
      },
      "source": [
        "df2['StringencyIndexForDisplay'].plot(figsize=(12,5));"
      ],
      "execution_count": null,
      "outputs": []
    },
    {
      "cell_type": "code",
      "metadata": {
        "id": "uxvtTKKRoxw_"
      },
      "source": [
        "adf_test(df2['StringencyIndexForDisplay'])"
      ],
      "execution_count": null,
      "outputs": []
    },
    {
      "cell_type": "code",
      "metadata": {
        "id": "DsiyZ36toxxB"
      },
      "source": [
        "formatter = ticker.StrMethodFormatter('{x:,.0f}')\n",
        "title = 'Strictness of Policies - South Korea'\n",
        "ylabel='Stringency Index'\n",
        "xlabel=''\n",
        "ax = df2['StringencyIndexForDisplay'].plot(figsize=(12,5),title=title)\n",
        "ax.autoscale(axis='x',tight=True)\n",
        "ax.set(xlabel=xlabel, ylabel=ylabel)\n",
        "ax.yaxis.set_major_formatter(formatter);"
      ],
      "execution_count": null,
      "outputs": []
    },
    {
      "cell_type": "code",
      "metadata": {
        "id": "xebzk9oIoxxD"
      },
      "source": [
        "auto_arima(df2['StringencyIndexForDisplay'],seasonal=False).summary()"
      ],
      "execution_count": null,
      "outputs": []
    },
    {
      "cell_type": "code",
      "metadata": {
        "id": "bewDs1H3oxxF"
      },
      "source": [
        "df2['d1'] = diff(df2['StringencyIndexForDisplay'],k_diff=1)\n",
        "adf_test(df2['d1'],'Strictness of Policies- South Korea')"
      ],
      "execution_count": null,
      "outputs": []
    },
    {
      "cell_type": "code",
      "metadata": {
        "id": "NRsR7MvZoxxH"
      },
      "source": [
        "title = 'Strictness of Policies- South Korea'\n",
        "lags = 40\n",
        "plot_acf(df2['StringencyIndexForDisplay'],title=title,lags=lags);"
      ],
      "execution_count": null,
      "outputs": []
    },
    {
      "cell_type": "code",
      "metadata": {
        "id": "ygCRJVnOoxxL"
      },
      "source": [
        "title = 'Partial Autocorrelation: Strictness of Policies- South Korea'\n",
        "lags = 40\n",
        "plot_pacf(df2['StringencyIndexForDisplay'],title=title,lags=lags);"
      ],
      "execution_count": null,
      "outputs": []
    },
    {
      "cell_type": "code",
      "metadata": {
        "id": "bUfNtBbnoxxN"
      },
      "source": [
        "stepwise_fit = auto_arima(df2['StringencyIndexForDisplay'], start_p=0, start_q=0,\n",
        "                          max_p=2, max_q=2, m=12,\n",
        "                          seasonal=False,\n",
        "                          d=None, trace=True,\n",
        "                          error_action='ignore', \n",
        "                          suppress_warnings=True,\n",
        "                          stepwise=True)         \n",
        "\n",
        "stepwise_fit.summary()"
      ],
      "execution_count": null,
      "outputs": []
    },
    {
      "cell_type": "code",
      "metadata": {
        "id": "oVyMXJpKoxxP"
      },
      "source": [
        "len(df2)"
      ],
      "execution_count": null,
      "outputs": []
    },
    {
      "cell_type": "code",
      "metadata": {
        "id": "6BT79AQmoxxR"
      },
      "source": [
        "train = df2.iloc[:90]\n",
        "test = df2.iloc[90:]"
      ],
      "execution_count": null,
      "outputs": []
    },
    {
      "cell_type": "code",
      "metadata": {
        "id": "NHCh662JoxxU"
      },
      "source": [
        "model = ARIMA(train['StringencyIndexForDisplay'],order=(1,1,1))\n",
        "results = model.fit()\n",
        "results.summary()"
      ],
      "execution_count": null,
      "outputs": []
    },
    {
      "cell_type": "code",
      "metadata": {
        "id": "_ErM8dOhoxxV"
      },
      "source": [
        "start=len(train)\n",
        "end=len(train)+len(test)-1\n",
        "predictions = results.predict(start=start, end=end, dynamic=False, typ='levels').rename('ARIMA(1,1,1) Predictions')"
      ],
      "execution_count": null,
      "outputs": []
    },
    {
      "cell_type": "code",
      "metadata": {
        "id": "R4e97nmMoxxY"
      },
      "source": [
        "for i in range(len(predictions)):\n",
        "    print(f\"predicted={predictions[i]:<11.10}, expected={test['StringencyIndexForDisplay'][i]}\")"
      ],
      "execution_count": null,
      "outputs": []
    },
    {
      "cell_type": "code",
      "metadata": {
        "id": "oR8jpdryoxxb"
      },
      "source": [
        "title = 'Strictness of Policies- South Korea'\n",
        "ylabel='Stringency Index'\n",
        "xlabel=''\n",
        "ax = test['StringencyIndexForDisplay'].plot(legend=True,figsize=(12,6),title=title)\n",
        "predictions.plot(legend=True)\n",
        "ax.autoscale(axis='x',tight=True)\n",
        "ax.set(xlabel=xlabel, ylabel=ylabel)\n",
        "ax.yaxis.set_major_formatter(formatter);"
      ],
      "execution_count": null,
      "outputs": []
    },
    {
      "cell_type": "code",
      "metadata": {
        "id": "xW18sLrvoxxd"
      },
      "source": [
        "error = mean_squared_error(test['StringencyIndexForDisplay'], predictions)\n",
        "print(f'ARIMA(1,1,1) MSE Error: {error:11.10}')"
      ],
      "execution_count": null,
      "outputs": []
    },
    {
      "cell_type": "code",
      "metadata": {
        "id": "heReItA7oxxe"
      },
      "source": [
        "error = rmse(test['StringencyIndexForDisplay'], predictions)\n",
        "print(f'ARIMA(1,1,1) RMSE Error: {error:11.10}')"
      ],
      "execution_count": null,
      "outputs": []
    },
    {
      "cell_type": "code",
      "metadata": {
        "id": "lurGXGVOoxxg"
      },
      "source": [
        "model = ARIMA(df2['StringencyIndexForDisplay'],order=(1,1,1))\n",
        "results = model.fit()\n",
        "fcast = results.predict(len(df2),len(df2)+11,typ='levels').rename('ARIMA(1,1,1) Forecast')"
      ],
      "execution_count": null,
      "outputs": []
    },
    {
      "cell_type": "code",
      "metadata": {
        "id": "zjs_6k0koxxh"
      },
      "source": [
        "title = 'Strictness of Policies- South Korea'\n",
        "ylabel='Stringency Index'\n",
        "xlabel=''\n",
        "ax = df2['StringencyIndexForDisplay'].plot(legend=True,figsize=(12,6),title=title)\n",
        "fcast.plot(legend=True)\n",
        "ax.autoscale(axis='x',tight=True)\n",
        "ax.set(xlabel=xlabel, ylabel=ylabel)\n",
        "ax.yaxis.set_major_formatter(formatter);"
      ],
      "execution_count": null,
      "outputs": []
    },
    {
      "cell_type": "code",
      "metadata": {
        "id": "Z45FbHFSoxxj"
      },
      "source": [
        "df3=df.loc['Italy']\n",
        "df3.index"
      ],
      "execution_count": null,
      "outputs": []
    },
    {
      "cell_type": "code",
      "metadata": {
        "id": "VS2d4znOoxxl"
      },
      "source": [
        "def adf_test(series,title=''):\n",
        "    \"\"\"\n",
        "    Pass in a time series and an optional title, returns an ADF report\n",
        "    \"\"\"\n",
        "    print(f'Augmented Dickey-Fuller Test: {title}')\n",
        "    result = adfuller(series.dropna(),autolag='AIC')    \n",
        "    labels = ['ADF test statistic','p-value','# lags used','# observations']\n",
        "    out = pd.Series(result[0:4],index=labels)\n",
        "    for key,val in result[4].items():\n",
        "        out[f'critical value ({key})']=val        \n",
        "    print(out.to_string())   \n",
        "    if result[1] <= 0.05:\n",
        "        print(\"Strong evidence against the null hypothesis\")\n",
        "        print(\"Reject the null hypothesis\")\n",
        "        print(\"Data has no unit root and is stationary\")\n",
        "    else:\n",
        "        print(\"Weak evidence against the null hypothesis\")\n",
        "        print(\"Fail to reject the null hypothesis\")\n",
        "        print(\"Data has a unit root and is non-stationary\")"
      ],
      "execution_count": null,
      "outputs": []
    },
    {
      "cell_type": "code",
      "metadata": {
        "id": "j0RPp69loxxo"
      },
      "source": [
        "df3['StringencyIndexForDisplay'].plot(figsize=(12,5));"
      ],
      "execution_count": null,
      "outputs": []
    },
    {
      "cell_type": "code",
      "metadata": {
        "id": "OIVCdsldoxxo"
      },
      "source": [
        "adf_test(df3['StringencyIndexForDisplay'])"
      ],
      "execution_count": null,
      "outputs": []
    },
    {
      "cell_type": "code",
      "metadata": {
        "id": "Ubs_Tx58oxxq"
      },
      "source": [
        "formatter = ticker.StrMethodFormatter('{x:,.0f}')\n",
        "title = 'Strictness of Policies - Italy'\n",
        "ylabel='Stringency Index'\n",
        "xlabel=''\n",
        "ax = df3['StringencyIndexForDisplay'].plot(figsize=(12,5),title=title)\n",
        "ax.autoscale(axis='x',tight=True)\n",
        "ax.set(xlabel=xlabel, ylabel=ylabel)\n",
        "ax.yaxis.set_major_formatter(formatter);"
      ],
      "execution_count": null,
      "outputs": []
    },
    {
      "cell_type": "code",
      "metadata": {
        "id": "dc-g7wi9oxxs"
      },
      "source": [
        "auto_arima(df3['StringencyIndexForDisplay'],seasonal=False).summary()"
      ],
      "execution_count": null,
      "outputs": []
    },
    {
      "cell_type": "code",
      "metadata": {
        "id": "-WGgtqTwoxxt"
      },
      "source": [
        "df3['d1'] = diff(df3['StringencyIndexForDisplay'],k_diff=1)\n",
        "adf_test(df3['d1'],'Strictness of Policies- Italy')"
      ],
      "execution_count": null,
      "outputs": []
    },
    {
      "cell_type": "code",
      "metadata": {
        "id": "C13fSikZoxxu"
      },
      "source": [
        "title = 'Strictness of Policies- Italy'\n",
        "lags = 40\n",
        "plot_acf(df3['StringencyIndexForDisplay'],title=title,lags=lags);"
      ],
      "execution_count": null,
      "outputs": []
    },
    {
      "cell_type": "code",
      "metadata": {
        "id": "ECEM1XGQoxxv"
      },
      "source": [
        "title = 'Partial Autocorrelation: Strictness of Policies- Italy'\n",
        "lags = 40\n",
        "plot_pacf(df3['StringencyIndexForDisplay'],title=title,lags=lags);"
      ],
      "execution_count": null,
      "outputs": []
    },
    {
      "cell_type": "code",
      "metadata": {
        "id": "jvfeiCDKoxxw"
      },
      "source": [
        "stepwise_fit = auto_arima(df3['StringencyIndexForDisplay'], start_p=0, start_q=0,\n",
        "                          max_p=2, max_q=2, m=12,\n",
        "                          seasonal=False,\n",
        "                          d=None, trace=True,\n",
        "                          error_action='ignore', \n",
        "                          suppress_warnings=True,\n",
        "                          stepwise=True)         \n",
        "\n",
        "stepwise_fit.summary()"
      ],
      "execution_count": null,
      "outputs": []
    },
    {
      "cell_type": "code",
      "metadata": {
        "id": "sPg2vq3Eoxxz"
      },
      "source": [
        "len(df3)"
      ],
      "execution_count": null,
      "outputs": []
    },
    {
      "cell_type": "code",
      "metadata": {
        "id": "dmCYH72boxx0"
      },
      "source": [
        "train = df3.iloc[:90]\n",
        "test = df3.iloc[90:]"
      ],
      "execution_count": null,
      "outputs": []
    },
    {
      "cell_type": "code",
      "metadata": {
        "id": "5ybA9XtUoxx2"
      },
      "source": [
        "model = ARIMA(train['StringencyIndexForDisplay'],order=(1,1,1))\n",
        "results = model.fit()\n",
        "results.summary()"
      ],
      "execution_count": null,
      "outputs": []
    },
    {
      "cell_type": "code",
      "metadata": {
        "id": "U1_SESxZoxx3"
      },
      "source": [
        "start=len(train)\n",
        "end=len(train)+len(test)-1\n",
        "predictions = results.predict(start=start, end=end, dynamic=False, typ='levels').rename('ARIMA(1,1,1) Predictions')"
      ],
      "execution_count": null,
      "outputs": []
    },
    {
      "cell_type": "code",
      "metadata": {
        "id": "_febDo1Goxx5"
      },
      "source": [
        "for i in range(len(predictions)):\n",
        "    print(f\"predicted={predictions[i]:<11.10}, expected={test['StringencyIndexForDisplay'][i]}\")"
      ],
      "execution_count": null,
      "outputs": []
    },
    {
      "cell_type": "code",
      "metadata": {
        "id": "k1pX9vOZoxx6"
      },
      "source": [
        "title = 'Strictness of Policies- Italy'\n",
        "ylabel='Stringency Index'\n",
        "xlabel=''\n",
        "ax = test['StringencyIndexForDisplay'].plot(legend=True,figsize=(12,6),title=title)\n",
        "predictions.plot(legend=True)\n",
        "ax.autoscale(axis='x',tight=True)\n",
        "ax.set(xlabel=xlabel, ylabel=ylabel)\n",
        "ax.yaxis.set_major_formatter(formatter);"
      ],
      "execution_count": null,
      "outputs": []
    },
    {
      "cell_type": "code",
      "metadata": {
        "id": "X2bEDurWoxx8"
      },
      "source": [
        "error = mean_squared_error(test['StringencyIndexForDisplay'], predictions)\n",
        "print(f'ARIMA(1,1,1) MSE Error: {error:11.10}')"
      ],
      "execution_count": null,
      "outputs": []
    },
    {
      "cell_type": "code",
      "metadata": {
        "id": "PXRGcXWSoxx-"
      },
      "source": [
        "error = rmse(test['StringencyIndexForDisplay'], predictions)\n",
        "print(f'ARIMA(1,1,1) RMSE Error: {error:11.10}')"
      ],
      "execution_count": null,
      "outputs": []
    },
    {
      "cell_type": "code",
      "metadata": {
        "id": "_U0eiFXCoxyA"
      },
      "source": [
        "model = ARIMA(df3['StringencyIndexForDisplay'],order=(1,1,1))\n",
        "results = model.fit()\n",
        "fcast = results.predict(len(df3),len(df3)+11,typ='levels').rename('ARIMA(1,1,1) Forecast')"
      ],
      "execution_count": null,
      "outputs": []
    },
    {
      "cell_type": "code",
      "metadata": {
        "id": "rG0W_DSooxyB"
      },
      "source": [
        "title = 'Strictness of Policies- Italy'\n",
        "ylabel='Stringency Index'\n",
        "xlabel=''\n",
        "ax = df3['StringencyIndexForDisplay'].plot(legend=True,figsize=(12,6),title=title)\n",
        "fcast.plot(legend=True)\n",
        "ax.autoscale(axis='x',tight=True)\n",
        "ax.set(xlabel=xlabel, ylabel=ylabel)\n",
        "ax.yaxis.set_major_formatter(formatter);"
      ],
      "execution_count": null,
      "outputs": []
    },
    {
      "cell_type": "code",
      "metadata": {
        "id": "3GZbSt2joxyC"
      },
      "source": [
        "df4=df.loc['Vietnam']\n",
        "df4.index"
      ],
      "execution_count": null,
      "outputs": []
    },
    {
      "cell_type": "code",
      "metadata": {
        "id": "SAvvGP6aoxyD"
      },
      "source": [
        "def adf_test(series,title=''):\n",
        "    \"\"\"\n",
        "    Pass in a time series and an optional title, returns an ADF report\n",
        "    \"\"\"\n",
        "    print(f'Augmented Dickey-Fuller Test: {title}')\n",
        "    result = adfuller(series.dropna(),autolag='AIC')    \n",
        "    labels = ['ADF test statistic','p-value','# lags used','# observations']\n",
        "    out = pd.Series(result[0:4],index=labels)\n",
        "    for key,val in result[4].items():\n",
        "        out[f'critical value ({key})']=val        \n",
        "    print(out.to_string())   \n",
        "    if result[1] <= 0.05:\n",
        "        print(\"Strong evidence against the null hypothesis\")\n",
        "        print(\"Reject the null hypothesis\")\n",
        "        print(\"Data has no unit root and is stationary\")\n",
        "    else:\n",
        "        print(\"Weak evidence against the null hypothesis\")\n",
        "        print(\"Fail to reject the null hypothesis\")\n",
        "        print(\"Data has a unit root and is non-stationary\")"
      ],
      "execution_count": null,
      "outputs": []
    },
    {
      "cell_type": "code",
      "metadata": {
        "id": "3fb--lm9oxyN"
      },
      "source": [
        "df4['StringencyIndexForDisplay'].plot(figsize=(12,5));"
      ],
      "execution_count": null,
      "outputs": []
    },
    {
      "cell_type": "code",
      "metadata": {
        "id": "L5YdHcJ2oxyP"
      },
      "source": [
        "adf_test(df4['StringencyIndexForDisplay'])"
      ],
      "execution_count": null,
      "outputs": []
    },
    {
      "cell_type": "code",
      "metadata": {
        "id": "WIBwNexhoxyQ"
      },
      "source": [
        "formatter = ticker.StrMethodFormatter('{x:,.0f}')\n",
        "title = 'Strictness of Policies - Vietnam'\n",
        "ylabel='Stringency Index'\n",
        "xlabel=''\n",
        "ax = df4['StringencyIndexForDisplay'].plot(figsize=(12,5),title=title)\n",
        "ax.autoscale(axis='x',tight=True)\n",
        "ax.set(xlabel=xlabel, ylabel=ylabel)\n",
        "ax.yaxis.set_major_formatter(formatter);"
      ],
      "execution_count": null,
      "outputs": []
    },
    {
      "cell_type": "code",
      "metadata": {
        "id": "y5dYTm3eoxyR"
      },
      "source": [
        "auto_arima(df4['StringencyIndexForDisplay'],seasonal=False).summary()"
      ],
      "execution_count": null,
      "outputs": []
    },
    {
      "cell_type": "code",
      "metadata": {
        "id": "3Fn8AFSDoxyS"
      },
      "source": [
        "df4['d1'] = diff(df4['StringencyIndexForDisplay'],k_diff=1)\n",
        "adf_test(df4['d1'],'Strictness of Policies- Vietnam')"
      ],
      "execution_count": null,
      "outputs": []
    },
    {
      "cell_type": "code",
      "metadata": {
        "id": "aC-zTOaqoxyT"
      },
      "source": [
        "title = 'Strictness of Policies- Vietnam'\n",
        "lags = 40\n",
        "plot_acf(df4['StringencyIndexForDisplay'],title=title,lags=lags);"
      ],
      "execution_count": null,
      "outputs": []
    },
    {
      "cell_type": "code",
      "metadata": {
        "id": "8oUKmd1koxyU"
      },
      "source": [
        "title = 'Partial Autocorrelation: Strictness of Policies- Vietnam'\n",
        "lags = 40\n",
        "plot_pacf(df4['StringencyIndexForDisplay'],title=title,lags=lags);"
      ],
      "execution_count": null,
      "outputs": []
    },
    {
      "cell_type": "code",
      "metadata": {
        "id": "4-p5ZRkZoxyV"
      },
      "source": [
        "stepwise_fit = auto_arima(df4['StringencyIndexForDisplay'], start_p=0, start_q=0,\n",
        "                          max_p=2, max_q=2, m=12,\n",
        "                          seasonal=False,\n",
        "                          d=None, trace=True,\n",
        "                          error_action='ignore', \n",
        "                          suppress_warnings=True,\n",
        "                          stepwise=True)         \n",
        "\n",
        "stepwise_fit.summary()"
      ],
      "execution_count": null,
      "outputs": []
    },
    {
      "cell_type": "code",
      "metadata": {
        "id": "QjNzKqseoxyW"
      },
      "source": [
        "len(df4)"
      ],
      "execution_count": null,
      "outputs": []
    },
    {
      "cell_type": "code",
      "metadata": {
        "id": "035iQAO3oxyY"
      },
      "source": [
        "train = df4.iloc[:90]\n",
        "test = df4.iloc[90:]"
      ],
      "execution_count": null,
      "outputs": []
    },
    {
      "cell_type": "code",
      "metadata": {
        "id": "uhAADho5oxyZ"
      },
      "source": [
        "model = ARIMA(train['StringencyIndexForDisplay'],order=(1,1,1))\n",
        "results = model.fit()\n",
        "results.summary()"
      ],
      "execution_count": null,
      "outputs": []
    },
    {
      "cell_type": "code",
      "metadata": {
        "id": "KF9Va61Moxya"
      },
      "source": [
        "start=len(train)\n",
        "end=len(train)+len(test)-1\n",
        "predictions = results.predict(start=start, end=end, dynamic=False, typ='levels').rename('ARIMA(1,1,1) Predictions')"
      ],
      "execution_count": null,
      "outputs": []
    },
    {
      "cell_type": "code",
      "metadata": {
        "id": "punhlViAoxyb"
      },
      "source": [
        "for i in range(len(predictions)):\n",
        "    print(f\"predicted={predictions[i]:<11.10}, expected={test['StringencyIndexForDisplay'][i]}\")"
      ],
      "execution_count": null,
      "outputs": []
    },
    {
      "cell_type": "code",
      "metadata": {
        "id": "qTNFKKIroxyc"
      },
      "source": [
        "title = 'Strictness of Policies- Vietnam'\n",
        "ylabel='Stringency Index'\n",
        "xlabel=''\n",
        "ax = test['StringencyIndexForDisplay'].plot(legend=True,figsize=(12,6),title=title)\n",
        "predictions.plot(legend=True)\n",
        "ax.autoscale(axis='x',tight=True)\n",
        "ax.set(xlabel=xlabel, ylabel=ylabel)\n",
        "ax.yaxis.set_major_formatter(formatter);"
      ],
      "execution_count": null,
      "outputs": []
    },
    {
      "cell_type": "code",
      "metadata": {
        "id": "zHJ_5QIooxyd"
      },
      "source": [
        "error = mean_squared_error(test['StringencyIndexForDisplay'], predictions)\n",
        "print(f'ARIMA(1,1,1) MSE Error: {error:11.10}')"
      ],
      "execution_count": null,
      "outputs": []
    },
    {
      "cell_type": "code",
      "metadata": {
        "id": "gNaXlztToxye"
      },
      "source": [
        "error = rmse(test['StringencyIndexForDisplay'], predictions)\n",
        "print(f'ARIMA(1,1,1) RMSE Error: {error:11.10}')"
      ],
      "execution_count": null,
      "outputs": []
    },
    {
      "cell_type": "code",
      "metadata": {
        "id": "nt9QlNdcoxyj"
      },
      "source": [
        "model = ARIMA(df4['StringencyIndexForDisplay'],order=(1,1,1))\n",
        "results = model.fit()\n",
        "fcast = results.predict(len(df4),len(df4)+11,typ='levels').rename('ARIMA(1,1,1) Forecast')"
      ],
      "execution_count": null,
      "outputs": []
    },
    {
      "cell_type": "code",
      "metadata": {
        "id": "LOklCCDxoxyk"
      },
      "source": [
        "title = 'Strictness of Policies- Vietnam'\n",
        "ylabel='Stringency Index'\n",
        "xlabel=''\n",
        "ax = df4['StringencyIndexForDisplay'].plot(legend=True,figsize=(12,6),title=title)\n",
        "fcast.plot(legend=True)\n",
        "ax.autoscale(axis='x',tight=True)\n",
        "ax.set(xlabel=xlabel, ylabel=ylabel)\n",
        "ax.yaxis.set_major_formatter(formatter);"
      ],
      "execution_count": null,
      "outputs": []
    },
    {
      "cell_type": "code",
      "metadata": {
        "id": "VWakvv1Moxyl"
      },
      "source": [
        "df5=df.loc['United States']\n",
        "df5.index"
      ],
      "execution_count": null,
      "outputs": []
    },
    {
      "cell_type": "code",
      "metadata": {
        "id": "ZHqninvyoxym"
      },
      "source": [
        "def adf_test(series,title=''):\n",
        "    \"\"\"\n",
        "    Pass in a time series and an optional title, returns an ADF report\n",
        "    \"\"\"\n",
        "    print(f'Augmented Dickey-Fuller Test: {title}')\n",
        "    result = adfuller(series.dropna(),autolag='AIC')    \n",
        "    labels = ['ADF test statistic','p-value','# lags used','# observations']\n",
        "    out = pd.Series(result[0:4],index=labels)\n",
        "    for key,val in result[4].items():\n",
        "        out[f'critical value ({key})']=val        \n",
        "    print(out.to_string())   \n",
        "    if result[1] <= 0.05:\n",
        "        print(\"Strong evidence against the null hypothesis\")\n",
        "        print(\"Reject the null hypothesis\")\n",
        "        print(\"Data has no unit root and is stationary\")\n",
        "    else:\n",
        "        print(\"Weak evidence against the null hypothesis\")\n",
        "        print(\"Fail to reject the null hypothesis\")\n",
        "        print(\"Data has a unit root and is non-stationary\")"
      ],
      "execution_count": null,
      "outputs": []
    },
    {
      "cell_type": "code",
      "metadata": {
        "id": "fdqHE5_6oxyo"
      },
      "source": [
        "df5['StringencyIndexForDisplay'].plot(figsize=(12,5));"
      ],
      "execution_count": null,
      "outputs": []
    },
    {
      "cell_type": "code",
      "metadata": {
        "id": "iplYpmodoxyp"
      },
      "source": [
        "adf_test(df5['StringencyIndexForDisplay'])"
      ],
      "execution_count": null,
      "outputs": []
    },
    {
      "cell_type": "code",
      "metadata": {
        "id": "ZephiwdJoxyr"
      },
      "source": [
        "formatter = ticker.StrMethodFormatter('{x:,.0f}')\n",
        "title = 'Strictness of Policies - United States'\n",
        "ylabel='Stringency Index'\n",
        "xlabel=''\n",
        "ax = df5['StringencyIndexForDisplay'].plot(figsize=(12,5),title=title)\n",
        "ax.autoscale(axis='x',tight=True)\n",
        "ax.set(xlabel=xlabel, ylabel=ylabel)\n",
        "ax.yaxis.set_major_formatter(formatter);"
      ],
      "execution_count": null,
      "outputs": []
    },
    {
      "cell_type": "code",
      "metadata": {
        "id": "EDz9FWUuoxyr"
      },
      "source": [
        "auto_arima(df5['StringencyIndexForDisplay'],seasonal=False).summary()"
      ],
      "execution_count": null,
      "outputs": []
    },
    {
      "cell_type": "code",
      "metadata": {
        "id": "_Ih1h3iwoxys"
      },
      "source": [
        "df5['d1'] = diff(df5['StringencyIndexForDisplay'],k_diff=1)\n",
        "adf_test(df5['d1'],'Strictness of Policies- United States')"
      ],
      "execution_count": null,
      "outputs": []
    },
    {
      "cell_type": "code",
      "metadata": {
        "id": "u6wJg6YXoxyt"
      },
      "source": [
        "title = 'Strictness of Policies- United States'\n",
        "lags = 40\n",
        "plot_acf(df5['StringencyIndexForDisplay'],title=title,lags=lags);"
      ],
      "execution_count": null,
      "outputs": []
    },
    {
      "cell_type": "code",
      "metadata": {
        "id": "Hir8tDmIoxyu"
      },
      "source": [
        "title = 'Partial Autocorrelation: Strictness of Policies- United States'\n",
        "lags = 40\n",
        "plot_pacf(df5['StringencyIndexForDisplay'],title=title,lags=lags);"
      ],
      "execution_count": null,
      "outputs": []
    },
    {
      "cell_type": "code",
      "metadata": {
        "id": "fb_-ZcgWoxyv"
      },
      "source": [
        "stepwise_fit = auto_arima(df5['StringencyIndexForDisplay'], start_p=0, start_q=0,\n",
        "                          max_p=2, max_q=2, m=12,\n",
        "                          seasonal=False,\n",
        "                          d=None, trace=True,\n",
        "                          error_action='ignore', \n",
        "                          suppress_warnings=True,\n",
        "                          stepwise=True)         \n",
        "\n",
        "stepwise_fit.summary()"
      ],
      "execution_count": null,
      "outputs": []
    },
    {
      "cell_type": "code",
      "metadata": {
        "id": "yjLOkIHooxyx"
      },
      "source": [
        "len(df5)"
      ],
      "execution_count": null,
      "outputs": []
    },
    {
      "cell_type": "code",
      "metadata": {
        "id": "pJlPeYa0oxyy"
      },
      "source": [
        "train = df5.iloc[:90]\n",
        "test = df5.iloc[90:]"
      ],
      "execution_count": null,
      "outputs": []
    },
    {
      "cell_type": "code",
      "metadata": {
        "id": "5Jz3479ooxyz"
      },
      "source": [
        "model = ARIMA(train['StringencyIndexForDisplay'],order=(1,1,1))\n",
        "results = model.fit()\n",
        "results.summary()"
      ],
      "execution_count": null,
      "outputs": []
    },
    {
      "cell_type": "code",
      "metadata": {
        "id": "oaqxz001oxy0"
      },
      "source": [
        "start=len(train)\n",
        "end=len(train)+len(test)-1\n",
        "predictions = results.predict(start=start, end=end, dynamic=False, typ='levels').rename('ARIMA(1,1,1) Predictions')"
      ],
      "execution_count": null,
      "outputs": []
    },
    {
      "cell_type": "code",
      "metadata": {
        "id": "vmcpwnlzoxy1"
      },
      "source": [
        "for i in range(len(predictions)):\n",
        "    print(f\"predicted={predictions[i]:<11.10}, expected={test['StringencyIndexForDisplay'][i]}\")"
      ],
      "execution_count": null,
      "outputs": []
    },
    {
      "cell_type": "code",
      "metadata": {
        "id": "7r_icrh1oxy2"
      },
      "source": [
        "title = 'Strictness of Policies- United States'\n",
        "ylabel='Stringency Index'\n",
        "xlabel=''\n",
        "ax = test['StringencyIndexForDisplay'].plot(legend=True,figsize=(12,6),title=title)\n",
        "predictions.plot(legend=True)\n",
        "ax.autoscale(axis='x',tight=True)\n",
        "ax.set(xlabel=xlabel, ylabel=ylabel)\n",
        "ax.yaxis.set_major_formatter(formatter);"
      ],
      "execution_count": null,
      "outputs": []
    },
    {
      "cell_type": "code",
      "metadata": {
        "id": "1hyH5cWpoxy3"
      },
      "source": [
        "error = mean_squared_error(test['StringencyIndexForDisplay'], predictions)\n",
        "print(f'ARIMA(1,1,1) MSE Error: {error:11.10}')"
      ],
      "execution_count": null,
      "outputs": []
    },
    {
      "cell_type": "code",
      "metadata": {
        "id": "-X0tPARhoxy4"
      },
      "source": [
        "error = rmse(test['StringencyIndexForDisplay'], predictions)\n",
        "print(f'ARIMA(1,1,1) RMSE Error: {error:11.10}')"
      ],
      "execution_count": null,
      "outputs": []
    },
    {
      "cell_type": "code",
      "metadata": {
        "id": "1HCeXAYGoxy9"
      },
      "source": [
        "model = ARIMA(df5['StringencyIndexForDisplay'],order=(1,1,1))\n",
        "results = model.fit()\n",
        "fcast = results.predict(len(df5),len(df5)+11,typ='levels').rename('ARIMA(1,1,1) Forecast')"
      ],
      "execution_count": null,
      "outputs": []
    },
    {
      "cell_type": "code",
      "metadata": {
        "id": "r57GbvYmoxy9"
      },
      "source": [
        "title = 'Strictness of Policies- United States'\n",
        "ylabel='Stringency Index'\n",
        "xlabel=''\n",
        "ax = df5['StringencyIndexForDisplay'].plot(legend=True,figsize=(12,6),title=title)\n",
        "fcast.plot(legend=True)\n",
        "ax.autoscale(axis='x',tight=True)\n",
        "ax.set(xlabel=xlabel, ylabel=ylabel)\n",
        "ax.yaxis.set_major_formatter(formatter);"
      ],
      "execution_count": null,
      "outputs": []
    }
  ]
}